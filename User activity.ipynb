{
 "cells": [
  {
   "cell_type": "code",
   "execution_count": 2,
   "id": "94dac52a",
   "metadata": {},
   "outputs": [
    {
     "name": "stderr",
     "output_type": "stream",
     "text": [
      "C:\\Users\\ym221\\anaconda3\\Lib\\site-packages\\sklearn\\cluster\\_kmeans.py:1412: FutureWarning: The default value of `n_init` will change from 10 to 'auto' in 1.4. Set the value of `n_init` explicitly to suppress the warning\n",
      "  super()._check_params_vs_input(X, default_n_init=10)\n",
      "C:\\Users\\ym221\\anaconda3\\Lib\\site-packages\\sklearn\\cluster\\_kmeans.py:1436: UserWarning: KMeans is known to have a memory leak on Windows with MKL, when there are less chunks than available threads. You can avoid it by setting the environment variable OMP_NUM_THREADS=1.\n",
      "  warnings.warn(\n"
     ]
    },
    {
     "name": "stdout",
     "output_type": "stream",
     "text": [
      "Silhouette Score with 3 Clusters: 0.613134696576089\n"
     ]
    }
   ],
   "source": [
    "import pandas as pd\n",
    "from sklearn.preprocessing import StandardScaler, LabelEncoder\n",
    "from sklearn.cluster import KMeans\n",
    "from sklearn.metrics import silhouette_score\n",
    "\n",
    "# Load data\n",
    "data = pd.read_csv('a.csv')  # Update with your actual file path\n",
    "\n",
    "# Preprocess and feature engineering\n",
    "data['datetime'] = pd.to_datetime(data['datetime'])\n",
    "data['hour'] = data['datetime'].dt.hour\n",
    "data['day_of_week'] = data['datetime'].dt.dayofweek\n",
    "encoder = LabelEncoder()\n",
    "data['queryname_encoded'] = encoder.fit_transform(data['queryname'])\n",
    "features = data[['hour', 'day_of_week', 'queryname_encoded']]\n",
    "\n",
    "# Scaling\n",
    "scaler = StandardScaler()\n",
    "features_scaled = scaler.fit_transform(features)\n",
    "\n",
    "# Clustering with K-Means\n",
    "kmeans_v1 = KMeans(n_clusters=3, random_state=42)\n",
    "clusters_v1 = kmeans_v1.fit_predict(features_scaled)\n",
    "\n",
    "# Evaluation\n",
    "silhouette_v1 = silhouette_score(features_scaled, clusters_v1)\n",
    "print(f\"Silhouette Score with 3 Clusters: {silhouette_v1}\")\n",
    "\n"
   ]
  },
  {
   "cell_type": "code",
   "execution_count": null,
   "id": "c6fdff36",
   "metadata": {},
   "outputs": [],
   "source": []
  }
 ],
 "metadata": {
  "kernelspec": {
   "display_name": "Python 3 (ipykernel)",
   "language": "python",
   "name": "python3"
  },
  "language_info": {
   "codemirror_mode": {
    "name": "ipython",
    "version": 3
   },
   "file_extension": ".py",
   "mimetype": "text/x-python",
   "name": "python",
   "nbconvert_exporter": "python",
   "pygments_lexer": "ipython3",
   "version": "3.11.5"
  }
 },
 "nbformat": 4,
 "nbformat_minor": 5
}
